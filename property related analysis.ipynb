{
 "cells": [
  {
   "cell_type": "code",
   "execution_count": null,
   "metadata": {},
   "outputs": [],
   "source": [
    "import pandas as pd\n",
    "import numpy as np\n",
    "import matplotlib.pyplot as plt\n",
    "import seaborn as sns\n"
   ]
  },
  {
   "cell_type": "code",
   "execution_count": null,
   "metadata": {},
   "outputs": [],
   "source": [
    "df=pd.read_excel(\"C:\\\\Users\\\\CHAHAT\\\\Downloads\\\\2025-3-14-iolp-buildings.xlsx\")\n",
    "df.head()\n"
   ]
  },
  {
   "cell_type": "code",
   "execution_count": null,
   "metadata": {},
   "outputs": [],
   "source": [
    "df.dtypes"
   ]
  },
  {
   "cell_type": "code",
   "execution_count": null,
   "metadata": {},
   "outputs": [],
   "source": [
    "df.describe()"
   ]
  },
  {
   "cell_type": "code",
   "execution_count": null,
   "metadata": {},
   "outputs": [],
   "source": [
    "df.shape"
   ]
  },
  {
   "cell_type": "code",
   "execution_count": null,
   "metadata": {},
   "outputs": [],
   "source": [
    "df.info()"
   ]
  },
  {
   "cell_type": "code",
   "execution_count": null,
   "metadata": {},
   "outputs": [],
   "source": [
    "df.duplicated().sum()"
   ]
  },
  {
   "cell_type": "code",
   "execution_count": null,
   "metadata": {},
   "outputs": [],
   "source": [
    "df.isnull().sum()"
   ]
  },
  {
   "cell_type": "code",
   "execution_count": null,
   "metadata": {},
   "outputs": [],
   "source": [
    "df['Construction Date']=df['Construction Date'].fillna(df['Construction Date'].median())"
   ]
  },
  {
   "cell_type": "code",
   "execution_count": null,
   "metadata": {},
   "outputs": [],
   "source": [
    "df.drop('Installation Name',axis=1,inplace=True)"
   ]
  },
  {
   "cell_type": "code",
   "execution_count": null,
   "metadata": {},
   "outputs": [],
   "source": [
    "df[['Building Rentable Square Feet'\t,'Available Square Feet','Construction Date']].astype(int)"
   ]
  },
  {
   "cell_type": "code",
   "execution_count": null,
   "metadata": {},
   "outputs": [],
   "source": [
    "from datetime import datetime\n",
    "current_year=datetime.now().year\n",
    "df['building age']=current_year-df['Construction Date']\n"
   ]
  },
  {
   "cell_type": "code",
   "execution_count": null,
   "metadata": {},
   "outputs": [],
   "source": [
    "df['vaccancy_rate']=(df['Available Square Feet']/df['Building Rentable Square Feet']*100)"
   ]
  },
  {
   "cell_type": "code",
   "execution_count": null,
   "metadata": {},
   "outputs": [],
   "source": [
    "df['if lease']=df['Owned or Leased'].apply(lambda x: 1 if x=='L' else 0)"
   ]
  },
  {
   "cell_type": "markdown",
   "metadata": {},
   "source": [
    "# ownership and location based\n"
   ]
  },
  {
   "cell_type": "code",
   "execution_count": null,
   "metadata": {},
   "outputs": [],
   "source": [
    "# percenatge of property owned or leased\n",
    "colors=['lightsalmon','peachpuff']\n",
    "explode=(0,0)\n",
    "\n",
    "plt.pie(df['Owned or Leased'].value_counts().values,labels=df['Owned or Leased'].value_counts().index,autopct='%1.1f%%',colors=colors,shadow=True,startangle=60,explode=explode)\n",
    "plt.title('Percentage Of Property i.e owned(F) or leased(L)')\n",
    "plt.show()"
   ]
  },
  {
   "cell_type": "code",
   "execution_count": null,
   "metadata": {},
   "outputs": [],
   "source": [
    "# Which GSA Region has the highest number of properties?\n",
    "high_region=df.groupby('GSA Region')['Real Property Asset Name'].count().idxmax()\n",
    "high_count=df.groupby('GSA Region')['Real Property Asset Name'].count().max()\n",
    "print(f'GSA Region that has the highest number of properties is {high_region} with {high_count} properties')"
   ]
  },
  {
   "cell_type": "code",
   "execution_count": null,
   "metadata": {},
   "outputs": [],
   "source": [
    "#  properties distributed across different states and cities\n",
    "\n",
    "property_count=df.groupby(['State','City'])['Real Property Asset Name'].count().reset_index()\n"
   ]
  },
  {
   "cell_type": "code",
   "execution_count": null,
   "metadata": {},
   "outputs": [],
   "source": [
    "# Which congressional districts have the most government properties?\n",
    "govt_properties=df.groupby('Congressional District')['Real Property Asset Name'].count().sort_values(ascending=False).head(10)\n",
    "plt.pie(govt_properties.values,labels=govt_properties.index,autopct='%1.1f%%',shadow=True)\n",
    "plt.title('top 10 Congressional districts that have the most Govt properties',fontsize=15)\n",
    "plt.xlabel('congressional district number')\n",
    "plt.show()"
   ]
  },
  {
   "cell_type": "markdown",
   "metadata": {},
   "source": [
    "# building availability and space"
   ]
  },
  {
   "cell_type": "code",
   "execution_count": null,
   "metadata": {},
   "outputs": [],
   "source": [
    "# Which properties have the highest available square footage?\n",
    "sq_feet_property = df.groupby('Real Property Asset Name')['Available Square Feet'].sum().sort_values(ascending=False).head(20)\n",
    "\n",
    "plt.figure(figsize=(16, 6))  \n",
    "plt.bar(sq_feet_property.index, sq_feet_property.values)\n",
    "\n",
    "plt.ylabel('Available Square Feet', fontsize=12)\n",
    "plt.xlabel('Property Name', fontsize=15)\n",
    "plt.title('Top 20 Properties with Highest Available Square Feet', fontsize=18)\n",
    "\n",
    "plt.xticks(rotation=45, ha='right')  \n",
    "plt.tight_layout()  \n",
    "\n",
    "plt.show()\n"
   ]
  },
  {
   "cell_type": "code",
   "execution_count": null,
   "metadata": {},
   "outputs": [],
   "source": [
    "# What is the total rentable square footage for all properties?\n",
    "total_rentable_sqft = df['Building Rentable Square Feet'].sum()\n",
    "print(f\"Total rentable square footage for all properties: {total_rentable_sqft:,}\")\n",
    "\n",
    "\n"
   ]
  },
  {
   "cell_type": "code",
   "execution_count": null,
   "metadata": {},
   "outputs": [],
   "source": [
    "rentable_property = df.groupby('Real Property Asset Name')['Building Rentable Square Feet'].sum().sort_values(ascending=False).head(20)\n",
    "plt.figure(figsize=(16, 6))  \n",
    "plt.bar(rentable_property.index, rentable_property.values)\n",
    "\n",
    "plt.ylabel('Rentable Sq Feet', fontsize=12)\n",
    "plt.xlabel('Property Name', fontsize=15)\n",
    "plt.title(' Properties with rentable square feet', fontsize=18)\n",
    "\n",
    "plt.xticks(rotation=45, ha='right')  \n",
    "plt.tight_layout()  \n",
    "\n",
    "plt.show()"
   ]
  },
  {
   "cell_type": "code",
   "execution_count": null,
   "metadata": {},
   "outputs": [],
   "source": [
    "# Which properties currently have available space for lease?\n",
    "\n",
    "\n",
    "leased_properties = df[df['if lease'] == 1].groupby('Real Property Asset Name')['Available Square Feet'].sum()\n"
   ]
  },
  {
   "cell_type": "markdown",
   "metadata": {},
   "source": [
    "# time and construction"
   ]
  },
  {
   "cell_type": "code",
   "execution_count": null,
   "metadata": {},
   "outputs": [],
   "source": [
    "# What is the average age of properties based on the construction date?\n",
    "average_age=df['building age'].mean()\n",
    "print(f'the average age of properties is {average_age}')"
   ]
  },
  {
   "cell_type": "code",
   "execution_count": null,
   "metadata": {},
   "outputs": [],
   "source": [
    "# Which properties were built in the last 10 years?\n",
    "recent_years=df[df['Construction Date']>=(current_year-10)]\n",
    "recent_properties=recent_years.sort_values(by='Construction Date',ascending=False)\n",
    "recent_properties.head(10)\n",
    "plt.hist(recent_properties['Construction Date'],bins=10,edgecolor='black',color='rosybrown')\n",
    "plt.xlabel(\"last 10 years\")\n",
    "plt.ylabel(\"no of properties\")\n",
    "plt.title('No of properties built in  last 10 years',fontsize=14,fontweight='bold',color='crimson')\n",
    "plt.tight_layout()\n",
    "plt.show()\n"
   ]
  },
  {
   "cell_type": "code",
   "execution_count": null,
   "metadata": {},
   "outputs": [],
   "source": [
    "# How does the construction date vary across different regions or property types?\n",
    "constructed_on_regions=df.groupby(['Real Property Asset Type','GSA Region'])['Construction Date'].mean().reset_index()\n",
    "colors=('darkgreen','forestgreen','seagreen')\n",
    "plt.figure(figsize=(15,6))\n",
    "sns.barplot(x='GSA Region',y='Construction Date',hue='Real Property Asset Type',data=constructed_on_regions,palette=colors)\n",
    "plt.title('Average Construction Year by Region and Property Type',fontsize=15,fontweight='bold')\n",
    "plt.xlabel('GSA Region',fontsize=15)\n",
    "plt.ylabel(\"Average Construction Year\",fontsize=15)\n",
    "plt.grid(linestyle='--',alpha=0.5,axis='y')\n",
    "plt.tight_layout()\n",
    "plt.show()"
   ]
  },
  {
   "cell_type": "markdown",
   "metadata": {},
   "source": [
    "# Building Status & Representatives\n"
   ]
  },
  {
   "cell_type": "code",
   "execution_count": null,
   "metadata": {},
   "outputs": [],
   "source": [
    "# How many properties are currently active, inactive, or under construction?\n",
    "properties_status=df.groupby('Building Status')['Real Property Asset Name'].count()\n",
    "colors=('ghostwhite','slategrey','lightsteelblue')\n",
    "explode=(0,0,0)\n",
    "log_sizes = np.log1p(properties_status.values) \n",
    "plt.pie(log_sizes,labels=properties_status.index,colors=colors,autopct='%1.1f%%',shadow=True,explode=explode)\n",
    "plt.tight_layout()\n",
    "plt.show()\n"
   ]
  },
  {
   "cell_type": "code",
   "execution_count": null,
   "metadata": {},
   "outputs": [],
   "source": [
    "# Which congressional representatives oversee the most properties?\n",
    "\n",
    "most_properties=df.groupby('Congressional District Representative Name')['Real Property Asset Name'].value_counts().sort_values(ascending=False)"
   ]
  },
  {
   "cell_type": "code",
   "execution_count": null,
   "metadata": {},
   "outputs": [],
   "source": [
    "# Is there a relationship between property status and ownership type (owned vs. leased)?\n",
    "relation=pd.crosstab(df['Owned or Leased'],df['Building Status'])\n",
    "\n",
    "sns.heatmap(relation,annot=True,cmap='Greens')\n",
    "plt.title('Relationship between building status and ownership type',fontsize=15,fontweight='bold',color='forestgreen')\n",
    "plt.show()"
   ]
  }
 ],
 "metadata": {
  "kernelspec": {
   "display_name": "Python 3",
   "language": "python",
   "name": "python3"
  },
  "language_info": {
   "codemirror_mode": {
    "name": "ipython",
    "version": 3
   },
   "file_extension": ".py",
   "mimetype": "text/x-python",
   "name": "python",
   "nbconvert_exporter": "python",
   "pygments_lexer": "ipython3",
   "version": "3.12.5"
  }
 },
 "nbformat": 4,
 "nbformat_minor": 2
}
